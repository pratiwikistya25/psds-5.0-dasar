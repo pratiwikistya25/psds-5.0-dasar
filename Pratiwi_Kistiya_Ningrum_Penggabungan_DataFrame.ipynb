{
  "nbformat": 4,
  "nbformat_minor": 0,
  "metadata": {
    "colab": {
      "provenance": [],
      "include_colab_link": true
    },
    "kernelspec": {
      "name": "python3",
      "display_name": "Python 3"
    },
    "language_info": {
      "name": "python"
    }
  },
  "cells": [
    {
      "cell_type": "markdown",
      "metadata": {
        "id": "view-in-github",
        "colab_type": "text"
      },
      "source": [
        "<a href=\"https://colab.research.google.com/github/pratiwikistya25/psds-5.0-dasar/blob/main/Pratiwi_Kistiya_Ningrum_Penggabungan_DataFrame.ipynb\" target=\"_parent\"><img src=\"https://colab.research.google.com/assets/colab-badge.svg\" alt=\"Open In Colab\"/></a>"
      ]
    },
    {
      "cell_type": "markdown",
      "metadata": {
        "id": "44beuwl5RX6l"
      },
      "source": [
        "#Penggabungan Series/DataFrame"
      ]
    },
    {
      "cell_type": "markdown",
      "metadata": {
        "id": "3D7QPZC6RXbf"
      },
      "source": [
        "Terdapat beberapa metode untuk menggabungkan Series/DataFrame di Pandas, yaitu:\n",
        "1. append\n",
        "2. concat\n",
        "3. merge\n",
        "4. join"
      ]
    },
    {
      "cell_type": "markdown",
      "metadata": {
        "id": "I2h2juhyRwON"
      },
      "source": [
        "#Import Library"
      ]
    },
    {
      "cell_type": "markdown",
      "metadata": {
        "id": "caMPKkfiRzXE"
      },
      "source": [
        "Import library berikut untuk digunakan d sepanjang notebook ini:"
      ]
    },
    {
      "cell_type": "code",
      "metadata": {
        "id": "zxmIV-ZoRVne"
      },
      "source": [
        "import pandas as pd"
      ],
      "execution_count": null,
      "outputs": []
    },
    {
      "cell_type": "markdown",
      "metadata": {
        "id": "sXQJqhV6SBDm"
      },
      "source": [
        "#Append"
      ]
    },
    {
      "cell_type": "markdown",
      "metadata": {
        "id": "e6OEyylASDtc"
      },
      "source": [
        "MEthod **.append()** dapat digunakan pada dataframe/series yang ditunjukan untuk menambah row-nya saja."
      ]
    },
    {
      "cell_type": "code",
      "metadata": {
        "colab": {
          "base_uri": "https://localhost:8080/"
        },
        "id": "YYEDFBqISSX9",
        "outputId": "905f76c8-1a78-4d61-e914-84c849808b56"
      },
      "source": [
        "# Membuat series of int (s1) dan series of steing (s2)\n",
        "s1 = pd.Series([1,2,3,4,5,6])\n",
        "s2 = pd.Series([\"a\",\"b\",\"c\", \"d\", \"e\", \"f\"])\n",
        "#Menerapkan method append\n",
        "s1_append_s2 = s1.append(s2)\n",
        "print(\"Series - append:\\n\", s1_append_s2)"
      ],
      "execution_count": null,
      "outputs": [
        {
          "output_type": "stream",
          "name": "stdout",
          "text": [
            "Series - append:\n",
            " 0    1\n",
            "1    2\n",
            "2    3\n",
            "3    4\n",
            "4    5\n",
            "5    6\n",
            "0    a\n",
            "1    b\n",
            "2    c\n",
            "3    d\n",
            "4    e\n",
            "5    f\n",
            "dtype: object\n"
          ]
        }
      ]
    },
    {
      "cell_type": "markdown",
      "metadata": {
        "id": "i4eNqqusTKbC"
      },
      "source": [
        "Untuk **Dataframe**"
      ]
    },
    {
      "cell_type": "code",
      "metadata": {
        "colab": {
          "base_uri": "https://localhost:8080/"
        },
        "id": "tkPBFQuxR_BH",
        "outputId": "5d37a8f7-628c-4c77-ba8a-5688d98e2fed"
      },
      "source": [
        "# Buat dataframe df1 dan df2\n",
        "df1 = pd.DataFrame({'a':[1,2],\n",
        "                    'b':[3,4]})\n",
        "print(\"df1:\\n\", df1)\n",
        "df2 = pd.DataFrame({'b':[1,2],\n",
        "                   'a':[3,4]})\n",
        "print(\"df2:\\n\", df2)\n",
        "\n",
        "#Terapkan method append\n",
        "df1_append_df2 = df1.append(df2)\n",
        "print(\"DataFrame - append:\\n\", df1_append_df2)"
      ],
      "execution_count": null,
      "outputs": [
        {
          "output_type": "stream",
          "name": "stdout",
          "text": [
            "df1:\n",
            "    a  b\n",
            "0  1  3\n",
            "1  2  4\n",
            "df2:\n",
            "    b  a\n",
            "0  1  3\n",
            "1  2  4\n",
            "DataFrame - append:\n",
            "    a  b\n",
            "0  1  3\n",
            "1  2  4\n",
            "0  3  1\n",
            "1  4  2\n"
          ]
        }
      ]
    },
    {
      "cell_type": "markdown",
      "metadata": {
        "id": "ZtFeX577UXQQ"
      },
      "source": [
        "#Concat"
      ]
    },
    {
      "cell_type": "markdown",
      "metadata": {
        "id": "vQmjAJ5xUamD"
      },
      "source": [
        "Method **.concat()** dapat digunakan pada dataframe yang ditunjukan untuk penggabungan baik dala, row-wise (dalam arah) atau column-wise."
      ]
    },
    {
      "cell_type": "code",
      "metadata": {
        "colab": {
          "base_uri": "https://localhost:8080/"
        },
        "id": "TJPgyN4hNstk",
        "outputId": "3b524a55-6f66-4dd9-d609-6c3fce5b4902"
      },
      "source": [
        "#Membuat dataframe df1 dan df2\n",
        "df1 = pd.DataFrame({'a':[1,2],\n",
        "                    'b':[3,4]})\n",
        "print(\"df1:\\n\", df1)\n",
        "df2 = pd.DataFrame({'b':[1,2],\n",
        "                    'a':[3,4]})\n",
        "print(\"df2:\\n\", df2)\n",
        "\n",
        "#menerapkan method concat row-wise\n",
        "row_wise_concat = pd.concat([df1,df2])\n",
        "print(\"Row-wise - concat:\\n\", row_wise_concat)"
      ],
      "execution_count": null,
      "outputs": [
        {
          "output_type": "stream",
          "name": "stdout",
          "text": [
            "df1:\n",
            "    a  b\n",
            "0  1  3\n",
            "1  2  4\n",
            "df2:\n",
            "    b  a\n",
            "0  1  3\n",
            "1  2  4\n",
            "Row-wise - concat:\n",
            "    a  b\n",
            "0  1  3\n",
            "1  2  4\n",
            "0  3  1\n",
            "1  4  2\n"
          ]
        }
      ]
    },
    {
      "cell_type": "markdown",
      "metadata": {
        "id": "LehjyYksV5Jt"
      },
      "source": [
        "Untuk penerapan concat pada **column-wise**"
      ]
    },
    {
      "cell_type": "code",
      "metadata": {
        "colab": {
          "base_uri": "https://localhost:8080/"
        },
        "id": "dEn4aOzYWEXe",
        "outputId": "26a72146-ef8b-4626-9f76-08bf3e5627cb"
      },
      "source": [
        "#Terapkan method concat column-wise\n",
        "col_wise_concat = pd.concat([df1,df2], axis=1)\n",
        "print(\"Column-wise - concat:\\n\", col_wise_concat)"
      ],
      "execution_count": null,
      "outputs": [
        {
          "output_type": "stream",
          "name": "stdout",
          "text": [
            "Column-wise - concat:\n",
            "    a  b  b  a\n",
            "0  1  3  1  3\n",
            "1  2  4  2  4\n"
          ]
        }
      ]
    },
    {
      "cell_type": "markdown",
      "metadata": {
        "id": "UGOu2uj1We69"
      },
      "source": [
        "Dapat jugamenambahkan identifier dari dataframe untuk data yang ditambahkan"
      ]
    },
    {
      "cell_type": "code",
      "metadata": {
        "id": "d8u88mY8Wrz7",
        "colab": {
          "base_uri": "https://localhost:8080/"
        },
        "outputId": "0f3fba88-832c-4948-f27b-fa8d2f98fd27"
      },
      "source": [
        "#Penambahan identifier --> memtuk hasil penggabungan multiindex\n",
        "multiindex_concat = pd.concat([df1, df2], axis=0, keys=['df1','df2'])\n",
        "print(\"Multiindex-concat:\\n\", multiindex_concat)"
      ],
      "execution_count": null,
      "outputs": [
        {
          "output_type": "stream",
          "name": "stdout",
          "text": [
            "Multiindex-concat:\n",
            "        a  b\n",
            "df1 0  1  3\n",
            "    1  2  4\n",
            "df2 0  3  1\n",
            "    1  4  2\n"
          ]
        }
      ]
    },
    {
      "cell_type": "markdown",
      "metadata": {
        "id": "_FSrTg96sdd2"
      },
      "source": [
        "#Merge"
      ]
    },
    {
      "cell_type": "markdown",
      "metadata": {
        "id": "AaMzpUeCs3qU"
      },
      "source": [
        "Method **.merge()** untuk menggabungkan Series/Dataframe yang bentuknya mirip dengan syntax join di SQL, specify left and right tables, join key dan how to join 9left, right, inner, full outer)."
      ]
    },
    {
      "cell_type": "code",
      "metadata": {
        "colab": {
          "base_uri": "https://localhost:8080/"
        },
        "id": "YegWhTvUtSdh",
        "outputId": "992c4f16-6ff3-4301-fc75-5838d6e6bd22"
      },
      "source": [
        "#Membuat daataframe df1 dan df2\n",
        "df1 = pd.DataFrame({\n",
        "    'key':['k1', 'k2','k3','k4','k5'],\n",
        "    'val1':[200,500,0,500,100],\n",
        "    'val2':[30,50,100,20,10]\n",
        "})\n",
        "print(\"df1:\\n\", df1)\n",
        "df2 = pd.DataFrame({\n",
        "    'key':['k1','k3','k5','k7','k10'],\n",
        "    'val3':[1,2,3,4,5],\n",
        "    'val4':[6,7,8,8,10]\n",
        "})\n",
        "print(\"df2:\\n\", df2)"
      ],
      "execution_count": null,
      "outputs": [
        {
          "output_type": "stream",
          "name": "stdout",
          "text": [
            "df1:\n",
            "   key  val1  val2\n",
            "0  k1   200    30\n",
            "1  k2   500    50\n",
            "2  k3     0   100\n",
            "3  k4   500    20\n",
            "4  k5   100    10\n",
            "df2:\n",
            "    key  val3  val4\n",
            "0   k1     1     6\n",
            "1   k3     2     7\n",
            "2   k5     3     8\n",
            "3   k7     4     8\n",
            "4  k10     5    10\n"
          ]
        }
      ]
    },
    {
      "cell_type": "markdown",
      "metadata": {
        "id": "LmAUSzjXuWP7"
      },
      "source": [
        "pd.merge yang ekuivalen dengan SQL **left join**"
      ]
    },
    {
      "cell_type": "code",
      "metadata": {
        "colab": {
          "base_uri": "https://localhost:8080/"
        },
        "id": "lpVeeYk_ucSW",
        "outputId": "9f929938-8947-4000-b2cc-7ced8c4e1d1e"
      },
      "source": [
        "#Merge yang ekivalen dengan SQL left join\n",
        "merge_df_left = pd.merge(left=df1, right=df2, how='left', left_on='key', right_on='key')\n",
        "print('Merge - left:\\n', merge_df_left)"
      ],
      "execution_count": null,
      "outputs": [
        {
          "output_type": "stream",
          "name": "stdout",
          "text": [
            "Merge - left:\n",
            "   key  val1  val2  val3  val4\n",
            "0  k1   200    30   1.0   6.0\n",
            "1  k2   500    50   NaN   NaN\n",
            "2  k3     0   100   2.0   7.0\n",
            "3  k4   500    20   NaN   NaN\n",
            "4  k5   100    10   3.0   8.0\n"
          ]
        }
      ]
    },
    {
      "cell_type": "markdown",
      "metadata": {
        "id": "02olJI79w8GB"
      },
      "source": [
        "pd.merge yang ekivalen dengan SQL **right join**"
      ]
    },
    {
      "cell_type": "code",
      "metadata": {
        "id": "KMByoN7xxKUT",
        "colab": {
          "base_uri": "https://localhost:8080/"
        },
        "outputId": "7d56edc6-7f18-4f46-df65-670f17dd37e4"
      },
      "source": [
        "#Merge yang ekivalen dengan SQL right join\n",
        "merge_df_right = pd.merge(left=df1, right=df2, how='right', left_on='key', right_on='key')\n",
        "print('Merge - Right:\\n', merge_df_right)"
      ],
      "execution_count": null,
      "outputs": [
        {
          "output_type": "stream",
          "name": "stdout",
          "text": [
            "Merge - Right:\n",
            "    key   val1   val2  val3  val4\n",
            "0   k1  200.0   30.0     1     6\n",
            "1   k3    0.0  100.0     2     7\n",
            "2   k5  100.0   10.0     3     8\n",
            "3   k7    NaN    NaN     4     8\n",
            "4  k10    NaN    NaN     5    10\n"
          ]
        }
      ]
    },
    {
      "cell_type": "markdown",
      "metadata": {
        "id": "iqVb0wjwxl1R"
      },
      "source": [
        "pd.merge yang ekivalen dengan SQL **right join**"
      ]
    },
    {
      "cell_type": "code",
      "metadata": {
        "id": "l_8Kbuczxs5G",
        "colab": {
          "base_uri": "https://localhost:8080/"
        },
        "outputId": "7e4a717c-ecf2-4536-af58-f562bc22a561"
      },
      "source": [
        "#Merge yang ekivalen dengan SQL INner join\n",
        "merge_df_inner = pd.merge(left=df1, right=df2, how='inner', left_on='key', right_on='key')\n",
        "print('Merge - inner:\\n', merge_df_inner)"
      ],
      "execution_count": null,
      "outputs": [
        {
          "output_type": "stream",
          "name": "stdout",
          "text": [
            "Merge - inner:\n",
            "   key  val1  val2  val3  val4\n",
            "0  k1   200    30     1     6\n",
            "1  k3     0   100     2     7\n",
            "2  k5   100    10     3     8\n"
          ]
        }
      ]
    },
    {
      "cell_type": "markdown",
      "metadata": {
        "id": "bPypIaZcyXTm"
      },
      "source": [
        "pd.merge yanng ekivalen dengan SQL **outer join**"
      ]
    },
    {
      "cell_type": "code",
      "metadata": {
        "id": "nsvu85AAx5dn",
        "colab": {
          "base_uri": "https://localhost:8080/"
        },
        "outputId": "7a3959b2-40e1-491c-aa38-52cbd8e992aa"
      },
      "source": [
        "# Merge yang ekivalen dengan SQL outer join\n",
        "merge_df_outer = pd.merge(left=df1, right=df2, how='outer', left_on='key', right_on='key')\n",
        "print('Merge - Outer:\\n', merge_df_outer)"
      ],
      "execution_count": null,
      "outputs": [
        {
          "output_type": "stream",
          "name": "stdout",
          "text": [
            "Merge - Outer:\n",
            "    key   val1   val2  val3  val4\n",
            "0   k1  200.0   30.0   1.0   6.0\n",
            "1   k2  500.0   50.0   NaN   NaN\n",
            "2   k3    0.0  100.0   2.0   7.0\n",
            "3   k4  500.0   20.0   NaN   NaN\n",
            "4   k5  100.0   10.0   3.0   8.0\n",
            "5   k7    NaN    NaN   4.0   8.0\n",
            "6  k10    NaN    NaN   5.0  10.0\n"
          ]
        }
      ]
    },
    {
      "cell_type": "markdown",
      "metadata": {
        "id": "RWHyAcB1zU00"
      },
      "source": [
        "Bagaimana joka salah datu dataframe atau keseluruhan dataframe yang akan digabungkan tersebut memiliki multindex?"
      ]
    },
    {
      "cell_type": "code",
      "metadata": {
        "colab": {
          "base_uri": "https://localhost:8080/"
        },
        "id": "4Xb0KtQtzgct",
        "outputId": "6a2d0f5d-3393-4ba9-a0b0-a52f2688354e"
      },
      "source": [
        "#Membuat dataframe df1 dan df2\n",
        "df1 = pd.DataFrame({\n",
        "    'key':['k1','k2','k3','k4','k5'],\n",
        "    'val1':[200,500,0,500,100],\n",
        "    'val2':[30,50,100,20,10]\n",
        "}).set_index(['key','val2'])\n",
        "print('DataFrame 1:\\n', df1)\n",
        "df2 = pd.DataFrame({\n",
        "    'key':['k1','k3','k5','k7','k10'],\n",
        "    'val3':[1,2,3,4,5],\n",
        "    'val4':[6,7,8,8,10]\n",
        "}).set_index(['key','val3'])\n",
        "print('DataFrame 2:\\n', df2)"
      ],
      "execution_count": null,
      "outputs": [
        {
          "output_type": "stream",
          "name": "stdout",
          "text": [
            "DataFrame 1:\n",
            "           val1\n",
            "key val2      \n",
            "k1  30     200\n",
            "k2  50     500\n",
            "k3  100      0\n",
            "k4  20     500\n",
            "k5  10     100\n",
            "DataFrame 2:\n",
            "           val4\n",
            "key val3      \n",
            "k1  1        6\n",
            "k3  2        7\n",
            "k5  3        8\n",
            "k7  4        8\n",
            "k10 5       10\n"
          ]
        }
      ]
    },
    {
      "cell_type": "markdown",
      "metadata": {
        "id": "N6HzEvms1CFi"
      },
      "source": [
        "Jika digabungkan secara langsung seperti yang telah dilakukan pada bagian sebelumnya"
      ]
    },
    {
      "cell_type": "code",
      "metadata": {
        "id": "fCZx87Fo1d2w"
      },
      "source": [
        "#Merge dataframe yang memiliki multi index\n",
        "#df_merge = pd.merge(df1,df2)\n",
        "#Print('Margin dataframe:\\n', df_merge)"
      ],
      "execution_count": null,
      "outputs": []
    },
    {
      "cell_type": "code",
      "metadata": {
        "colab": {
          "base_uri": "https://localhost:8080/"
        },
        "id": "BfU_ngyE1y2L",
        "outputId": "84f0d998-fd1b-4e4b-a179-3c45cf11fedf"
      },
      "source": [
        "#MErge dataframe yang memiliki multi index\n",
        "df_merge = pd.merge(df1.reset_index(), df2.reset_index())\n",
        "print('MErgin dataframe:\\n', df_merge)"
      ],
      "execution_count": null,
      "outputs": [
        {
          "output_type": "stream",
          "name": "stdout",
          "text": [
            "MErgin dataframe:\n",
            "   key  val2  val1  val3  val4\n",
            "0  k1    30   200     1     6\n",
            "1  k3   100     0     2     7\n",
            "2  k5    10   100     3     8\n"
          ]
        }
      ]
    },
    {
      "cell_type": "markdown",
      "metadata": {
        "id": "RgEUmiPW2OVH"
      },
      "source": [
        "#JOin"
      ]
    },
    {
      "cell_type": "markdown",
      "metadata": {
        "id": "BdIOk_qL2P4z"
      },
      "source": [
        "Method**.join()** digunakan pada dataframe untuk menggabungkan kedua data dengan set index pada kedua tabel tersebut sebagai join key, tanpa index, hal ini tidak akan berhasil"
      ]
    },
    {
      "cell_type": "code",
      "metadata": {
        "id": "LT3mYM4R2lS7"
      },
      "source": [
        "#Buat dataframe df1 dan df2\n",
        "df1 = pd.DataFrame({\n",
        "    'key':['k1','k2','k3','k4', 'k5'],\n",
        "    'val1':[200,500,0,500,100],\n",
        "    'val2':[30,50,100,20,10]\n",
        "})\n",
        "df2 = pd.DataFrame({\n",
        "    'key':['k1','k3','k5','k7','k10'],\n",
        "    'val3':[1,2,3,4,5],\n",
        "    'val4':[6,7,8,8,10]\n",
        "})\n",
        "#Penerapan join dengan menggunakan set_index dan keyword how\n",
        "# df1.join(df2) #<-- akan error"
      ],
      "execution_count": null,
      "outputs": []
    },
    {
      "cell_type": "code",
      "metadata": {
        "id": "G2_-yTij3tiK",
        "colab": {
          "base_uri": "https://localhost:8080/"
        },
        "outputId": "9ca19bb0-50c4-4822-c1c1-48556a659069"
      },
      "source": [
        "print(df1.set_index('key').join(df2.set_index('key')))"
      ],
      "execution_count": null,
      "outputs": [
        {
          "output_type": "stream",
          "name": "stdout",
          "text": [
            "     val1  val2  val3  val4\n",
            "key                        \n",
            "k1    200    30   1.0   6.0\n",
            "k2    500    50   NaN   NaN\n",
            "k3      0   100   2.0   7.0\n",
            "k4    500    20   NaN   NaN\n",
            "k5    100    10   3.0   8.0\n"
          ]
        }
      ]
    },
    {
      "cell_type": "markdown",
      "metadata": {
        "id": "AVlRMZow397V"
      },
      "source": [
        "Untuk tipe join yang lain (contoh=inner), harus menspecify keyword how='inner' seperti yang dicontohkan berikut ini:"
      ]
    },
    {
      "cell_type": "code",
      "metadata": {
        "colab": {
          "base_uri": "https://localhost:8080/"
        },
        "id": "TyEQ5SSG4PpC",
        "outputId": "72371da8-6ded-4126-ea46-5534436e1438"
      },
      "source": [
        "join_df = df1.set_index('key').join(df2.set_index('key'), how='inner')\n",
        "print(join_df  )"
      ],
      "execution_count": null,
      "outputs": [
        {
          "output_type": "stream",
          "name": "stdout",
          "text": [
            "     val1  val2  val3  val4\n",
            "key                        \n",
            "k1    200    30     1     6\n",
            "k3      0   100     2     7\n",
            "k5    100    10     3     8\n"
          ]
        }
      ]
    }
  ]
}