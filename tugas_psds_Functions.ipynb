{
  "nbformat": 4,
  "nbformat_minor": 0,
  "metadata": {
    "colab": {
      "provenance": [],
      "include_colab_link": true
    },
    "kernelspec": {
      "name": "python3",
      "display_name": "Python 3"
    },
    "language_info": {
      "name": "python"
    }
  },
  "cells": [
    {
      "cell_type": "markdown",
      "metadata": {
        "id": "view-in-github",
        "colab_type": "text"
      },
      "source": [
        "<a href=\"https://colab.research.google.com/github/pratiwikistya25/psds-5.0-dasar/blob/main/tugas_psds_Functions.ipynb\" target=\"_parent\"><img src=\"https://colab.research.google.com/assets/colab-badge.svg\" alt=\"Open In Colab\"/></a>"
      ]
    },
    {
      "cell_type": "markdown",
      "metadata": {
        "id": "eKh13tZ0MSbD"
      },
      "source": [
        "#Fuction"
      ]
    },
    {
      "cell_type": "markdown",
      "metadata": {
        "id": "RqDQpbMvMVR8"
      },
      "source": [
        "Function(Fungsi) adalah sebuah blok statemen yang hanya akan dijalankan saat ia dipanggil.\n",
        "\n",
        "function len() untuk mengukur jumlah elemen dalam sebuah list dan fungsi print() untuk menampilkan pesan pada layar konsol merupakan contoh dari bentuk fungsi yang telah disediakan oleh bahasa Python atau dengan kata lain built-in functions.\n",
        "\n",
        "Selain fungsi yang telah disediakan oleh bahasa python, Python mengizinkan untuk mendeklarasikan fungsi dalam kode yang dituliskan yang dikenal dengan user defined function.\n",
        "\n",
        "```\n",
        "def nama_fungsi(argument):\n",
        "  statemen_1\n",
        "  ...\n",
        "  statemen_n\n",
        "  return returned_value\n",
        "  ```\n",
        "\n",
        "* **nama_fungsi** adalah nama untuk fungsi yang anda definisikan, memiliki atuuran seperti penamaan variabel\n",
        "\n",
        "* **argument** adala variabel mesukan ke fungsi, bisa tanpa variabel, satu variabel atau lebih\n",
        "\n",
        "* **statement** ... statement_n adalah algoritma yang telah anda transfer dalan bahasa Python yang merupakan inti dari fungsi yang anda definisikan. seluruh statement adalah menjorok (indent) ke dalam seperti yang peprnah anda pelajari pada conditioning dan looping\n",
        "\n",
        "* **return_value** adalah variabel output dari fungsi anda, bisa tanpa variabel, satu variabel atau lebih.\n"
      ]
    },
    {
      "cell_type": "markdown",
      "metadata": {
        "id": "i4ufPmq8PCSc"
      },
      "source": [
        "#Argumen dan Parameter"
      ]
    },
    {
      "cell_type": "markdown",
      "metadata": {
        "id": "4VT51iFbPFx3"
      },
      "source": [
        "* **Parameter** adalah variabel yang digunakan dalam deklarasi fungsi\n",
        "* **argument** adalah nilai yang diberikan saat pemanggilan fungsi."
      ]
    },
    {
      "cell_type": "code",
      "metadata": {
        "colab": {
          "base_uri": "https://localhost:8080/"
        },
        "id": "QNTiEcxzPUnB",
        "outputId": "05a0ca31-8856-4e40-b9ab-d31d4a4d5d89"
      },
      "source": [
        "def print_nama(nama): # 'nama' adalah parameter\n",
        " print(nama)\n",
        "\n",
        "print_nama('Budi') #'Budi' adalah argumen"
      ],
      "execution_count": null,
      "outputs": [
        {
          "output_type": "stream",
          "name": "stdout",
          "text": [
            "Budi\n"
          ]
        }
      ]
    },
    {
      "cell_type": "markdown",
      "metadata": {
        "id": "l9Eh9sqhPzdX"
      },
      "source": [
        "#Argumen posisi dan kata kunci"
      ]
    },
    {
      "cell_type": "markdown",
      "metadata": {
        "id": "MGyVxGevP5pM"
      },
      "source": [
        "Kita bisa menyatakan argumen sebagai argumen posisi atau kata kunci. Beberapa manfaat argumen kata kunci dapat berupa:\n",
        "\n",
        "* kita dapat menyebut argumen dengan nama mereka untuk memperjelas apa yang mereka wakili\n",
        "* kita dapat mengatur ulang argumen dengan cara yang membuatnya paling mudah dibaca"
      ]
    },
    {
      "cell_type": "code",
      "metadata": {
        "colab": {
          "base_uri": "https://localhost:8080/"
        },
        "id": "rVxYigGYQdup",
        "outputId": "47310ca2-7d1c-4372-ff6a-ac48a4746ba9"
      },
      "source": [
        "def angka(a,b,c):\n",
        "  print(a,b,c)\n",
        "\n",
        "#argumen posisi\n",
        "# argumen berdasarkan posisinya\n",
        "angka(1,2,3)\n",
        "\n",
        "#argumen berdasarkan kata kuncinya\n",
        "angka(a=1, b=2, c=3)\n",
        "angka(c=3, b=2, a=1)\n",
        "#catatan: jika sudah diberi kunci maka urutan tidak menjadi penting\n",
        "\n",
        "#campuran antara argumen posisi dan argumen kata kunci\n",
        "angka(1, b=2, c=3)\n",
        "\n",
        "#ini tidak diijinkan:\n",
        "#foo(1, b=2, c=3) #argumen posisional setelah argumen kunci\n",
        "#foo(1, b=2, c=3) # terdapat dua nilai untuk argumen kunci 'a'"
      ],
      "execution_count": null,
      "outputs": [
        {
          "output_type": "stream",
          "name": "stdout",
          "text": [
            "1 2 3\n",
            "1 2 3\n",
            "1 2 3\n",
            "1 2 3\n"
          ]
        }
      ]
    },
    {
      "cell_type": "markdown",
      "metadata": {
        "id": "3GI3G7C_Rvor"
      },
      "source": [
        "#Argumen Defult"
      ]
    },
    {
      "cell_type": "markdown",
      "metadata": {
        "id": "4QVnD6QqRzle"
      },
      "source": [
        "fungsi dapat memiliki argumen defult dengan nilai yang telah ditentukan sebelumnya. Argumen ini dapat ditinggaklan dan nilai default kemudian diteruskan ke fungsi, atau argumen dapat berubah dengan nilai yang berbeda. Perhatikan bahwa argumen default harus ditentukan sebagai **parameter terakhir** dalam suatu fungsi."
      ]
    },
    {
      "cell_type": "code",
      "metadata": {
        "colab": {
          "base_uri": "https://localhost:8080/"
        },
        "id": "zhOLRedSMO2u",
        "outputId": "79cc2c6c-fb75-47cd-fb31-3cb0f2180a04"
      },
      "source": [
        "# Argument default\n",
        "def angka2(a,b,c,d=4):\n",
        "  print(a,b,c,d)\n",
        "\n",
        "angka2(1,2,3,4)\n",
        "angka2(1,b=2, c=3, d=100)\n",
        "\n",
        "#argumen default harus diletakan terakhir"
      ],
      "execution_count": null,
      "outputs": [
        {
          "output_type": "stream",
          "name": "stdout",
          "text": [
            "1 2 3 4\n",
            "1 2 3 100\n"
          ]
        }
      ]
    },
    {
      "cell_type": "markdown",
      "metadata": {
        "id": "GH9xc3EbSZ3J"
      },
      "source": [
        "#Praktik membuat fungsi"
      ]
    },
    {
      "cell_type": "code",
      "metadata": {
        "colab": {
          "base_uri": "https://localhost:8080/"
        },
        "id": "ByyHS_LgS4g6",
        "outputId": "9190bc75-c7f2-4c51-85e6-06eaa3e2b6e4"
      },
      "source": [
        "x=1\n",
        "y=2\n",
        "x*y"
      ],
      "execution_count": null,
      "outputs": [
        {
          "output_type": "execute_result",
          "data": {
            "text/plain": [
              "2"
            ]
          },
          "metadata": {},
          "execution_count": 5
        }
      ]
    },
    {
      "cell_type": "code",
      "metadata": {
        "colab": {
          "base_uri": "https://localhost:8080/"
        },
        "id": "aK1ptdMCS8VU",
        "outputId": "8f712fda-e7bb-4080-e2cb-6e888b43c15b"
      },
      "source": [
        "def penjumlahan(x,y): #input\n",
        "  a=x+y               #proses\n",
        "  return a            #output\n",
        "\n",
        "penjumlahan(1,2)      #menggunakan fungsi"
      ],
      "execution_count": null,
      "outputs": [
        {
          "output_type": "execute_result",
          "data": {
            "text/plain": [
              "3"
            ]
          },
          "metadata": {},
          "execution_count": 6
        }
      ]
    },
    {
      "cell_type": "markdown",
      "metadata": {
        "id": "1OzhRaa_TXgV"
      },
      "source": [
        "Penjumlahan yang memungkinkan untuk tiga bilangna"
      ]
    },
    {
      "cell_type": "code",
      "metadata": {
        "colab": {
          "base_uri": "https://localhost:8080/"
        },
        "id": "xkqij5WKTdSB",
        "outputId": "e2cdc15f-8bd8-430f-a84f-7925cccd88b4"
      },
      "source": [
        "def penjumlahan(x,y,z=None):\n",
        "  if (z==None):\n",
        "    return x+y\n",
        "  else:\n",
        "    return x+y+z\n",
        "\n",
        "print(penjumlahan(1, 2))\n",
        "print(penjumlahan(1, 2, 3))\n"
      ],
      "execution_count": null,
      "outputs": [
        {
          "output_type": "stream",
          "name": "stdout",
          "text": [
            "3\n",
            "6\n"
          ]
        }
      ]
    },
    {
      "cell_type": "markdown",
      "metadata": {
        "id": "rN0kXdW8T1_U"
      },
      "source": [
        "menyimpan hasil fungsi dalam variabel"
      ]
    },
    {
      "cell_type": "code",
      "metadata": {
        "colab": {
          "base_uri": "https://localhost:8080/"
        },
        "id": "eAB6nH-wT7md",
        "outputId": "6387ed4b-50ee-461a-a49a-e98dcff5ef28"
      },
      "source": [
        "def penjumlahan(x,y):\n",
        "  return x+y\n",
        "a = penjumlahan\n",
        "a(1,2)"
      ],
      "execution_count": null,
      "outputs": [
        {
          "output_type": "execute_result",
          "data": {
            "text/plain": [
              "3"
            ]
          },
          "metadata": {},
          "execution_count": 8
        }
      ]
    },
    {
      "cell_type": "markdown",
      "metadata": {
        "id": "WYYZXtsSUIvp"
      },
      "source": [
        "#Latihan 1"
      ]
    },
    {
      "cell_type": "markdown",
      "metadata": {
        "id": "9H180dr5ULmF"
      },
      "source": [
        "buatlah function pythagoras dengan input argumennya panjang tinggi dan alas segitiga untuk menghasilkan output nilai panjang sisi miring."
      ]
    },
    {
      "cell_type": "code",
      "metadata": {
        "id": "5_mY6K2-UbOY",
        "colab": {
          "base_uri": "https://localhost:8080/"
        },
        "outputId": "40bc4c44-d8f1-4696-a91c-78bab697a6c2"
      },
      "source": [
        "#Ketikan codemu\n",
        "def pythagoras(a,t):\n",
        "  m = (((a**2)+(t**2))**(1/2))\n",
        "  return m\n",
        "pythagoras(4,3)"
      ],
      "execution_count": null,
      "outputs": [
        {
          "output_type": "execute_result",
          "data": {
            "text/plain": [
              "5.0"
            ]
          },
          "metadata": {},
          "execution_count": 4
        }
      ]
    },
    {
      "cell_type": "markdown",
      "metadata": {
        "id": "CSJQKDPWUeKx"
      },
      "source": [
        "#Latihan 2"
      ]
    },
    {
      "cell_type": "markdown",
      "metadata": {
        "id": "Htz3sglwUgBU"
      },
      "source": [
        "buatlah function luas permukaan balok dengan input argumennya panjang, lebar, tinggi dari balok untuk menghasilkan output nilai luas permukaan balok tersebut."
      ]
    },
    {
      "cell_type": "code",
      "metadata": {
        "id": "ccwBdF3HUwyy",
        "colab": {
          "base_uri": "https://localhost:8080/"
        },
        "outputId": "56f12720-8f18-4728-d4a3-5445594835f8"
      },
      "source": [
        "#ketikan kodemu\n",
        "def luas_permukaan_balok(p, l, t):\n",
        "  L= 2*((p*l)+(p*t)+(l*t))\n",
        "  return L\n",
        "luas_permukaan_balok(1,2,3)"
      ],
      "execution_count": null,
      "outputs": [
        {
          "output_type": "execute_result",
          "data": {
            "text/plain": [
              "22"
            ]
          },
          "metadata": {},
          "execution_count": 2
        }
      ]
    }
  ]
}