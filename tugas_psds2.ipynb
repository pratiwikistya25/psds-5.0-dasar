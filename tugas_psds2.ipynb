{
  "nbformat": 4,
  "nbformat_minor": 0,
  "metadata": {
    "colab": {
      "provenance": [],
      "collapsed_sections": [
        "30npHK5qjz9D",
        "VYU6Cuq5LaIK",
        "np9h2MVLSGFl",
        "3ZAXPYRNaksy",
        "Was28ItPe9E8",
        "5VMtUxfw8dIi",
        "pmE8g518_OaJ",
        "6E_nwnf5BgY2"
      ],
      "include_colab_link": true
    },
    "kernelspec": {
      "name": "python3",
      "display_name": "Python 3"
    },
    "language_info": {
      "name": "python"
    }
  },
  "cells": [
    {
      "cell_type": "markdown",
      "metadata": {
        "id": "view-in-github",
        "colab_type": "text"
      },
      "source": [
        "<a href=\"https://colab.research.google.com/github/pratiwikistya25/psds-5.0-dasar/blob/main/tugas_psds2.ipynb\" target=\"_parent\"><img src=\"https://colab.research.google.com/assets/colab-badge.svg\" alt=\"Open In Colab\"/></a>"
      ]
    },
    {
      "cell_type": "markdown",
      "source": [
        "##Operator\n"
      ],
      "metadata": {
        "id": "fgoMAzlpQZNU"
      }
    },
    {
      "cell_type": "markdown",
      "source": [
        "Operator simbol-simbol yang dapat digunakan untuk mengubah nilai dari suatu variabel dengan melibatkan satu atau lebih variabel dan literal. Tipe-tipe operator:\n",
        "1. Operator Aritmatika\n",
        "\n",
        "2. Operator Assignment\n",
        "3. Operator Pembanding\n",
        "4. Operator Logika\n",
        "5. Operator Membersip"
      ],
      "metadata": {
        "id": "QaTLyEqZWrkb"
      }
    },
    {
      "cell_type": "markdown",
      "source": [
        "##Operator Aritmatika"
      ],
      "metadata": {
        "id": "SY7G7lRwZAM2"
      }
    },
    {
      "cell_type": "markdown",
      "source": [
        "Operator Aritmatika digunakan untuk melakukan operasi aritmatika yang umum. Macam macam Operator Aritmatika, yaitu:\n",
        "\n",
        "\\+ : Penjumlahan\n",
        "\n",
        "\\- : Pengurangan\n",
        "\n",
        "\\* : Perkalian\n",
        "\n",
        "\\/ : Pembagian\n",
        "\n",
        "\\% : Modulus\n",
        "\n",
        "\\** : Perpangkatan\n",
        "\n",
        "\\// : Pembagian dengan pembulatan flooring"
      ],
      "metadata": {
        "id": "fUlsPlVUdwsv"
      }
    },
    {
      "cell_type": "markdown",
      "source": [
        "##Contoh Penggunaan Operator Aritmatika"
      ],
      "metadata": {
        "id": "EDqQQ8cSenMC"
      }
    },
    {
      "cell_type": "code",
      "execution_count": null,
      "metadata": {
        "colab": {
          "base_uri": "https://localhost:8080/"
        },
        "id": "8zPI77TrQSnh",
        "outputId": "0cb44722-f1e8-4e32-9f72-51140d565557"
      },
      "outputs": [
        {
          "output_type": "stream",
          "name": "stdout",
          "text": [
            "penjumlahan\n",
            "4\n",
            "pengurangan\n",
            "--------------------\n",
            "-1\n",
            "Perkalian\n",
            "--------------------\n",
            "6\n",
            "Pembagian\n",
            "--------------------\n",
            "0.6666666666666666\n",
            "Modulus\n",
            "--------------------\n",
            "1\n",
            "Perpangkatan\n",
            "--------------------\n",
            "8\n",
            "Pembagian dengan hasil pembulatan flooring\n",
            "--------------------\n",
            "1\n"
          ]
        }
      ],
      "source": [
        "# Penjumlahan\n",
        "print('penjumlahan')\n",
        "print(2+2)\n",
        "#Pengurangan\n",
        "print('pengurangan')\n",
        "print('-'*20)\n",
        "print(2-3)\n",
        "#Perkalian\n",
        "print('Perkalian')\n",
        "print('-'*20)\n",
        "print(2*3)\n",
        "#Pembagian\n",
        "print('Pembagian')\n",
        "print('-'*20)\n",
        "print(2/3)\n",
        "#Modulus\n",
        "print('Modulus')\n",
        "print('-'*20)\n",
        "print(3%2)\n",
        "#Perpangkatan\n",
        "print('Perpangkatan')\n",
        "print('-'*20)\n",
        "print(2**3)\n",
        "#Pembagian dengan hasil pembulatan flooring\n",
        "print('Pembagian dengan hasil pembulatan flooring')\n",
        "print('-'*20)\n",
        "print(3//2)"
      ]
    },
    {
      "cell_type": "markdown",
      "source": [
        "##Latihan Operator 1"
      ],
      "metadata": {
        "id": "30npHK5qjz9D"
      }
    },
    {
      "cell_type": "markdown",
      "source": [
        "Buatlah Program penerapan operator Aritmatika dengan nilai-nilai yang berbeda dari contoh diatas"
      ],
      "metadata": {
        "id": "YT_X-KUSj6Ol"
      }
    },
    {
      "cell_type": "code",
      "source": [
        "# Penjumlahan\n",
        "print('penjumlahan')\n",
        "print(5+4)\n",
        "#Pengurangan\n",
        "print('pengurangan')\n",
        "print('-'*20)\n",
        "print(5-4)\n",
        "#Perkalian\n",
        "print('Perkalian')\n",
        "print('-'*20)\n",
        "print(5*4)\n",
        "#Pembagian\n",
        "print('Pembagian')\n",
        "print('-'*20)\n",
        "print(5/4)\n",
        "#Modulus\n",
        "print('Modulus')\n",
        "print('-'*20)\n",
        "print(5%4)\n",
        "#Perpangkatan\n",
        "print('Perpangkatan')\n",
        "print('-'*20)\n",
        "print(5**4)\n",
        "#Pembagian dengan hasil pembulatan flooring\n",
        "print('Pembagian dengan hasil pembulatan flooring')\n",
        "print('-'*20)\n",
        "print(5//4)"
      ],
      "metadata": {
        "colab": {
          "base_uri": "https://localhost:8080/"
        },
        "id": "vdVWfNOkj4Sv",
        "outputId": "90bccd09-cb3f-4a05-d5bf-e2bde303bd5b"
      },
      "execution_count": null,
      "outputs": [
        {
          "output_type": "stream",
          "name": "stdout",
          "text": [
            "penjumlahan\n",
            "9\n",
            "pengurangan\n",
            "--------------------\n",
            "1\n",
            "Perkalian\n",
            "--------------------\n",
            "20\n",
            "Pembagian\n",
            "--------------------\n",
            "1.25\n",
            "Modulus\n",
            "--------------------\n",
            "1\n",
            "Perpangkatan\n",
            "--------------------\n",
            "625\n",
            "Pembagian dengan hasil pembulatan flooring\n",
            "--------------------\n",
            "1\n"
          ]
        }
      ]
    },
    {
      "cell_type": "markdown",
      "source": [
        "##Operator Assignment"
      ],
      "metadata": {
        "id": "BpPQf1AQk5xd"
      }
    },
    {
      "cell_type": "markdown",
      "source": [
        "Operator Assignment digunakan untuk menyimpan nilai menjadi suatu variabel\n",
        "\n",
        "\\= : Contohnya x = 5 -> x = 5\n",
        "\n",
        "\\+= : Contohnya x = x + 5 -> x += 5\n",
        "\n",
        "\\-= : Contohnya x = x-5 -> x -= 5\n",
        "\n",
        "\\*= : Contohnya x = x * 5 -> x *= 5\n",
        "\n",
        "\\/= : Contohnya x = x / 5 -> x /= 5\n",
        "\n",
        "\\%= : Contohnya x = x % 5 -> x %= 5\n",
        "\n",
        "\\//= : Contohnya x = x // 5 -> x //= 5\n",
        "\n",
        "\\** = : Contohnya x = x ** 5 -> x **= 5"
      ],
      "metadata": {
        "id": "fBzjL-_Ak-Gz"
      }
    },
    {
      "cell_type": "markdown",
      "source": [
        "## Contoh Penggunaan Operator Assignment"
      ],
      "metadata": {
        "id": "amkzcBzNsnKJ"
      }
    },
    {
      "cell_type": "code",
      "source": [
        "#Penjumlahan\n",
        "print('Penjumlahan')\n",
        "x= 5\n",
        "x=x+5\n",
        "print(x)\n",
        "x=5\n",
        "x+=5\n",
        "print(x)\n",
        "print('-'*20)\n",
        "\n",
        "#Pengurangan\n",
        "print('Pengurangan')\n",
        "x= 5\n",
        "x=x-5\n",
        "print(x)\n",
        "x=5\n",
        "x-=3\n",
        "print(x)\n",
        "print('-'*20)\n",
        "\n",
        "#Perkalian\n",
        "print('Perkalian')\n",
        "x= 5\n",
        "x=x*5\n",
        "print(x)\n",
        "x=5\n",
        "x*=3\n",
        "print(x)\n",
        "print('-'*20)\n",
        "\n",
        "#Pembagian\n",
        "print('Pembagian')\n",
        "x= 5\n",
        "x=x/5\n",
        "print(x)\n",
        "x=5\n",
        "x/=3\n",
        "print(x)\n",
        "print('-'*20)\n",
        "\n",
        "#Modulus\n",
        "print('Modulus')\n",
        "x= 5\n",
        "x=x%5\n",
        "print(x)\n",
        "x=5\n",
        "x%=3\n",
        "print(x)\n",
        "print('-'*20)\n",
        "\n",
        "#Pembagian Flooring\n",
        "print('Pembagian Floorinf')\n",
        "x= 5\n",
        "x=x//5\n",
        "print(x)\n",
        "x=5\n",
        "x//=3\n",
        "print(x)\n",
        "print('-'*20)\n",
        "\n",
        "#Perpangkatan\n",
        "print('Perpangkatan')\n",
        "x= 5\n",
        "x=x**5\n",
        "print(x)\n",
        "x=5\n",
        "x**=3\n",
        "print(x)\n",
        "print('-'*20)"
      ],
      "metadata": {
        "colab": {
          "base_uri": "https://localhost:8080/"
        },
        "id": "Ol2uWMTIs0bV",
        "outputId": "6bed3e29-9024-41d0-a2d4-5e21cc761aad"
      },
      "execution_count": null,
      "outputs": [
        {
          "output_type": "stream",
          "name": "stdout",
          "text": [
            "Penjumlahan\n",
            "10\n",
            "10\n",
            "--------------------\n",
            "Pengurangan\n",
            "0\n",
            "2\n",
            "--------------------\n",
            "Perkalian\n",
            "25\n",
            "15\n",
            "--------------------\n",
            "Pembagian\n",
            "1.0\n",
            "1.6666666666666667\n",
            "--------------------\n",
            "Modulus\n",
            "0\n",
            "2\n",
            "--------------------\n",
            "Pembagian Floorinf\n",
            "1\n",
            "1\n",
            "--------------------\n",
            "Perpangkatan\n",
            "3125\n",
            "125\n",
            "--------------------\n"
          ]
        }
      ]
    },
    {
      "cell_type": "markdown",
      "source": [
        "## Latihan Operator 2"
      ],
      "metadata": {
        "id": "VYU6Cuq5LaIK"
      }
    },
    {
      "cell_type": "markdown",
      "source": [
        "Buatlah program penerapan operator assignment dengan nilai-nilai yang berbeda dari contoh diatas"
      ],
      "metadata": {
        "id": "O49Hd_G1Lge0"
      }
    },
    {
      "cell_type": "code",
      "source": [
        "#Penjumlahan\n",
        "print('Penjumlahan')\n",
        "x= 3\n",
        "x=x+3\n",
        "print(x)\n",
        "x=3\n",
        "x+=4\n",
        "print(x)\n",
        "print('-'*20)\n",
        "\n",
        "#Pengurangan\n",
        "print('Pengurangan')\n",
        "x= 4\n",
        "x=x-3\n",
        "print(x)\n",
        "x=3\n",
        "x-=4\n",
        "print(x)\n",
        "print('-'*20)\n",
        "\n",
        "#Perkalian\n",
        "print('Perkalian')\n",
        "x= 4\n",
        "x=x*3\n",
        "print(x)\n",
        "x=4\n",
        "x*=3\n",
        "print(x)\n",
        "print('-'*20)\n",
        "\n",
        "#Pembagian\n",
        "print('Pembagian')\n",
        "x= 4\n",
        "x=x/3\n",
        "print(x)\n",
        "x=3\n",
        "x/=4\n",
        "print(x)\n",
        "print('-'*20)\n",
        "\n",
        "#Modulus\n",
        "print('Modulus')\n",
        "x= 4\n",
        "x=x%3\n",
        "print(x)\n",
        "x=4\n",
        "x%=3\n",
        "print(x)\n",
        "print('-'*20)\n",
        "\n",
        "#Pembagian Flooring\n",
        "print('Pembagian Floorinf')\n",
        "x= 4\n",
        "x=x//3\n",
        "print(x)\n",
        "x=3\n",
        "x//=4\n",
        "print(x)\n",
        "print('-'*20)\n",
        "\n",
        "#Perpangkatan\n",
        "print('Perpangkatan')\n",
        "x= 4\n",
        "x=x**4\n",
        "print(x)\n",
        "x=3\n",
        "x**=4\n",
        "print(x)\n",
        "print('-'*20)"
      ],
      "metadata": {
        "colab": {
          "base_uri": "https://localhost:8080/"
        },
        "id": "OPufjjINODVh",
        "outputId": "3d3b157f-6e1e-4924-c319-49b7459496ef"
      },
      "execution_count": null,
      "outputs": [
        {
          "output_type": "stream",
          "name": "stdout",
          "text": [
            "Penjumlahan\n",
            "6\n",
            "7\n",
            "--------------------\n",
            "Pengurangan\n",
            "1\n",
            "-1\n",
            "--------------------\n",
            "Perkalian\n",
            "12\n",
            "12\n",
            "--------------------\n",
            "Pembagian\n",
            "1.3333333333333333\n",
            "0.75\n",
            "--------------------\n",
            "Modulus\n",
            "1\n",
            "1\n",
            "--------------------\n",
            "Pembagian Floorinf\n",
            "1\n",
            "0\n",
            "--------------------\n",
            "Perpangkatan\n",
            "256\n",
            "81\n",
            "--------------------\n"
          ]
        }
      ]
    },
    {
      "cell_type": "markdown",
      "source": [
        "## Operator Pembanding"
      ],
      "metadata": {
        "id": "QrER1yFpPzFI"
      }
    },
    {
      "cell_type": "markdown",
      "source": [
        "Operator Pembanding digunakan untuk membandingkan 2 nilai atau variabel macam-macam operator pembanding:\n",
        "\n",
        "\\== -> samadengan\n",
        "\n",
        "\\!= -> tidak samadengan\n",
        "\n",
        "\\> -> lebih dari\n",
        "\n",
        "\\< -> kurang dari\n",
        "\n",
        "\\>= -> lebih dari dan samadengan\n",
        "\n",
        "\\<= -> kurang dari dan samadengan"
      ],
      "metadata": {
        "id": "5MCNPTMPP2J5"
      }
    },
    {
      "cell_type": "markdown",
      "source": [
        "## Contoh penggunaan operator pembanding"
      ],
      "metadata": {
        "id": "TZPj5hUVQ1Ul"
      }
    },
    {
      "cell_type": "code",
      "source": [
        "print(2==2)\n",
        "print(2!=2)\n",
        "print(2>2)\n",
        "print(2<2)\n",
        "print(2>=2)\n",
        "print(2<=2)"
      ],
      "metadata": {
        "colab": {
          "base_uri": "https://localhost:8080/"
        },
        "id": "Krqo8g3VQ8UA",
        "outputId": "cede70f1-9a8a-4e1e-b9ef-bc9a8398e7b6"
      },
      "execution_count": null,
      "outputs": [
        {
          "output_type": "stream",
          "name": "stdout",
          "text": [
            "True\n",
            "False\n",
            "False\n",
            "False\n",
            "True\n",
            "True\n"
          ]
        }
      ]
    },
    {
      "cell_type": "markdown",
      "source": [
        "## Latihan Operator 3"
      ],
      "metadata": {
        "id": "np9h2MVLSGFl"
      }
    },
    {
      "cell_type": "markdown",
      "source": [
        "Buatlah program penerapan operator pembanding dengan nilai nilai yang berbeda dari contoh diatas"
      ],
      "metadata": {
        "id": "e5yME54gSKUl"
      }
    },
    {
      "cell_type": "code",
      "source": [
        "print(7==8)\n",
        "print(7!=8)\n",
        "print(7>8)\n",
        "print(7<8)\n",
        "print(7>=8)\n",
        "print(7<=8)"
      ],
      "metadata": {
        "colab": {
          "base_uri": "https://localhost:8080/"
        },
        "id": "pDn1KKhhSUQ8",
        "outputId": "ddbf12b0-124c-41c4-e2d1-1ca9fb43804f"
      },
      "execution_count": null,
      "outputs": [
        {
          "output_type": "stream",
          "name": "stdout",
          "text": [
            "False\n",
            "True\n",
            "False\n",
            "True\n",
            "False\n",
            "True\n"
          ]
        }
      ]
    },
    {
      "cell_type": "markdown",
      "source": [
        "## Operator Logika"
      ],
      "metadata": {
        "id": "Ee1YWBoaS-Ux"
      }
    },
    {
      "cell_type": "markdown",
      "source": [
        "Operator logika digunakan untuk mengkombinasikan statement statement kondisional. Macam-macam Operator logika:\n",
        "\n",
        "```\n",
        "and -> kondisi menjadi benar apabila semua statementnya benar\n",
        "\n",
        "or -> kondisi menjadi benar apabila salah satu statementnya ada yang benar\n",
        "\n",
        "not -> membalik hasil dari benar ke salah dan salah ke benar\n",
        "```"
      ],
      "metadata": {
        "id": "6LWEbosCVibg"
      }
    },
    {
      "cell_type": "markdown",
      "source": [
        "## Contoh penggunaan operator logika"
      ],
      "metadata": {
        "id": "s0WGDUw0YHpI"
      }
    },
    {
      "cell_type": "code",
      "source": [
        "print(True and False)\n",
        "print(False or False)\n",
        "print(not False and True)"
      ],
      "metadata": {
        "colab": {
          "base_uri": "https://localhost:8080/"
        },
        "id": "JW3ae20hYnM5",
        "outputId": "7cfb65ff-041b-4b5d-9305-cb32a8464d3f"
      },
      "execution_count": null,
      "outputs": [
        {
          "output_type": "stream",
          "name": "stdout",
          "text": [
            "False\n",
            "False\n",
            "True\n"
          ]
        }
      ]
    },
    {
      "cell_type": "markdown",
      "source": [
        "## Latihan Operator 4"
      ],
      "metadata": {
        "id": "3ZAXPYRNaksy"
      }
    },
    {
      "cell_type": "markdown",
      "source": [
        "Buatlah program penerapan operator logika dengan nilai nilai yang berbedaa dari contoh diatas"
      ],
      "metadata": {
        "id": "iF4GWMDLaqSe"
      }
    },
    {
      "cell_type": "code",
      "source": [
        "print(True and True)\n",
        "print(True or False)\n",
        "print(not True and True)"
      ],
      "metadata": {
        "colab": {
          "base_uri": "https://localhost:8080/"
        },
        "id": "vBsXqzoPa5v5",
        "outputId": "c184cfb2-2c1a-4c44-d69b-82f37956c542"
      },
      "execution_count": null,
      "outputs": [
        {
          "output_type": "stream",
          "name": "stdout",
          "text": [
            "True\n",
            "True\n",
            "False\n"
          ]
        }
      ]
    },
    {
      "cell_type": "markdown",
      "source": [
        "## Operator Membership/Keanggotaan"
      ],
      "metadata": {
        "id": "V4t1YZvbcDfX"
      }
    },
    {
      "cell_type": "markdown",
      "source": [
        "Operator keanggotaan digunakan untuk menguji apakah urutan disajikan dalam suatu objek. Macam-macam operator Keanggotaan:\n",
        "\n",
        "```\n",
        "in -> return True ketika nilai tertentu dalam sebuah urutan ada\n",
        "not in -> return ketika nilai tertentu dalam sebuah urutan tidak ada\n",
        "```\n"
      ],
      "metadata": {
        "id": "KMMmcBrhdSlO"
      }
    },
    {
      "cell_type": "markdown",
      "source": [
        "## Contoh penggunaan operator keanggotaan"
      ],
      "metadata": {
        "id": "mnANMhxZetMi"
      }
    },
    {
      "cell_type": "code",
      "source": [
        "a=(1,2,3,4,5,6)\n",
        "b=2\n",
        "\n",
        "print(b in a)\n",
        "\n",
        "print('-'*20)\n",
        "a=(1,2,3,4,5,6)\n",
        "b=7\n",
        "print(b not in a)"
      ],
      "metadata": {
        "colab": {
          "base_uri": "https://localhost:8080/"
        },
        "id": "YPCrnsfieoJE",
        "outputId": "fda2f107-104e-413f-929d-ef345e9d334d"
      },
      "execution_count": null,
      "outputs": [
        {
          "output_type": "stream",
          "name": "stdout",
          "text": [
            "True\n",
            "--------------------\n",
            "True\n"
          ]
        }
      ]
    },
    {
      "cell_type": "markdown",
      "source": [
        "## Latihan operator 5"
      ],
      "metadata": {
        "id": "Was28ItPe9E8"
      }
    },
    {
      "cell_type": "markdown",
      "source": [
        "Buatlah program penerapan operator keanggotaan membership dengan nilai nilai yang berbeda dari contoh diatas"
      ],
      "metadata": {
        "id": "KjxhiXtYfBDz"
      }
    },
    {
      "cell_type": "code",
      "source": [
        "a=(1,2,3,4,5,6)\n",
        "b=0\n",
        "print(b in a)\n",
        "\n",
        "print('-'*20)\n",
        "a=(1,2,3,4,5,6)\n",
        "b=6\n",
        "print(b not in a)"
      ],
      "metadata": {
        "colab": {
          "base_uri": "https://localhost:8080/"
        },
        "id": "eLePRX8CfLYY",
        "outputId": "a9194fe5-0b3b-40fe-b4fe-502f85bdf459"
      },
      "execution_count": null,
      "outputs": [
        {
          "output_type": "stream",
          "name": "stdout",
          "text": [
            "False\n",
            "--------------------\n",
            "False\n"
          ]
        }
      ]
    },
    {
      "cell_type": "markdown",
      "source": [
        "## Variabel"
      ],
      "metadata": {
        "id": "RLkGpemHg53z"
      }
    },
    {
      "cell_type": "markdown",
      "source": [
        "Variabel : Lokal penyimpanan yang dpaat digunakan untuk menampung sebuah data atau informasi. Syarat-syarat penamaan variabel\n",
        "\n",
        "1. Karakter-karakter yang digunakan untuk penamaan variabel adalah alphabet, angka dan underscrore.\n",
        "2. Karakter pertama variabel harus berupa huruf atau garis bawah/underscore, dan tidak bisa berupa angka.\n",
        "3. Nama sebuah variabel tidak bisa menggunakan keyword atau reserved words dari bahasa python seperti for, if dan lainnya.\n",
        "4. Karakter pada nama variabel bersifat sensitif (case-sensitif)"
      ],
      "metadata": {
        "id": "g5euS5n8g8U7"
      }
    },
    {
      "cell_type": "code",
      "source": [
        "# membuat variabel\n",
        "kalimat = 'ini adalah variabel'\n",
        "bilangan1= 4\n",
        "bilangan2= 2.5\n",
        "bilangan3= True\n",
        "bilangan4= 1j+4\n",
        "\n",
        "#menampilkan variabel\n",
        "print(kalimat)\n",
        "print(bilangan1)\n",
        "print(bilangan2)\n",
        "print(bilangan3)\n",
        "print(bilangan4)"
      ],
      "metadata": {
        "colab": {
          "base_uri": "https://localhost:8080/"
        },
        "id": "wX8Izpj4iS6d",
        "outputId": "6970e184-6ddc-41e2-f4c0-42bd4d8c067d"
      },
      "execution_count": null,
      "outputs": [
        {
          "output_type": "stream",
          "name": "stdout",
          "text": [
            "ini adalah variabel\n",
            "4\n",
            "2.5\n",
            "True\n",
            "(4+1j)\n"
          ]
        }
      ]
    },
    {
      "cell_type": "markdown",
      "source": [
        "##  Latihan 1"
      ],
      "metadata": {
        "id": "5VMtUxfw8dIi"
      }
    },
    {
      "cell_type": "markdown",
      "source": [
        "Buatlah 5 variabel kalian sendiri dengan 5 macam tipe data lalu tampilkan variabel menggunakan fungsi print"
      ],
      "metadata": {
        "id": "kunbRUZr8fzr"
      }
    },
    {
      "cell_type": "code",
      "source": [
        "# membuat variabel\n",
        "variabel1 = False\n",
        "variabel2= 0.3\n",
        "variabel3= 2j+5\n",
        "variabel4= 1\n",
        "variabel5= 'Saya sedang belajar python'\n",
        "\n",
        "#menampilkan variabel\n",
        "print(variabel1)\n",
        "print(variabel2)\n",
        "print(variabel3)\n",
        "print(variabel4)\n",
        "print(variabel5)"
      ],
      "metadata": {
        "colab": {
          "base_uri": "https://localhost:8080/"
        },
        "id": "al3YoDcZ8pkt",
        "outputId": "c7812591-d645-4dbf-d440-dbe8994219a1"
      },
      "execution_count": null,
      "outputs": [
        {
          "output_type": "stream",
          "name": "stdout",
          "text": [
            "False\n",
            "0.3\n",
            "(5+2j)\n",
            "1\n",
            "Saya sedang belajar python\n"
          ]
        }
      ]
    },
    {
      "cell_type": "markdown",
      "source": [
        " ## **Tipe Data & Konversi Tipe Data**"
      ],
      "metadata": {
        "id": "TZZWz9H98qJB"
      }
    },
    {
      "cell_type": "markdown",
      "source": [
        "## Tipe Data"
      ],
      "metadata": {
        "id": "Qq2AuY3F84mk"
      }
    },
    {
      "cell_type": "markdown",
      "source": [
        "5 tipe data yaitu:\n",
        "1. integer atau bilangan bulat\n",
        "2. Float atau bilangan desimal\n",
        "3. String atau kalimat\n",
        "4. Boolean yang terdiri dari True dan False\n",
        "5. Complex yang merupakan bilangan kompleks"
      ],
      "metadata": {
        "id": "OZBWLmGW868i"
      }
    },
    {
      "cell_type": "code",
      "source": [
        "#Menampilkan tipe data\n",
        "print(type(kalimat))\n",
        "print(type(bilangan1))\n",
        "print(type(bilangan2))\n",
        "print(type(bilangan3))\n",
        "print(type(bilangan4))"
      ],
      "metadata": {
        "colab": {
          "base_uri": "https://localhost:8080/"
        },
        "id": "v3b0mJIl-h-y",
        "outputId": "48b0c88e-b580-4077-924a-aee38e5d65f1"
      },
      "execution_count": null,
      "outputs": [
        {
          "output_type": "stream",
          "name": "stdout",
          "text": [
            "<class 'str'>\n",
            "<class 'int'>\n",
            "<class 'float'>\n",
            "<class 'bool'>\n",
            "<class 'complex'>\n"
          ]
        }
      ]
    },
    {
      "cell_type": "markdown",
      "source": [
        "## Latihan 2"
      ],
      "metadata": {
        "id": "pmE8g518_OaJ"
      }
    },
    {
      "cell_type": "markdown",
      "source": [
        "Cek tipe data variabel yang telah kalian buat pada latihan 1"
      ],
      "metadata": {
        "id": "obcQZ2Bh_Ruj"
      }
    },
    {
      "cell_type": "code",
      "source": [
        "# membuat variabel\n",
        "variabel1 = False\n",
        "variabel2= 0.3\n",
        "variabel3= 2j+5\n",
        "variabel4= 1\n",
        "variabel5= 'Saya sedang belajar python'\n",
        "\n",
        "#menampilkan variabel\n",
        "print(type(variabel1))\n",
        "print(type(variabel2))\n",
        "print(type(variabel3))\n",
        "print(type(variabel4))\n",
        "print(type(variabel5))"
      ],
      "metadata": {
        "colab": {
          "base_uri": "https://localhost:8080/"
        },
        "id": "5DDqyGT8_aDX",
        "outputId": "fe4e63fa-d7f9-4067-9ea1-e9bc1265624e"
      },
      "execution_count": null,
      "outputs": [
        {
          "output_type": "stream",
          "name": "stdout",
          "text": [
            "<class 'bool'>\n",
            "<class 'float'>\n",
            "<class 'complex'>\n",
            "<class 'int'>\n",
            "<class 'str'>\n"
          ]
        }
      ]
    },
    {
      "cell_type": "markdown",
      "source": [
        "## Konversi Tipe Data"
      ],
      "metadata": {
        "id": "UqXoktTM_tJJ"
      }
    },
    {
      "cell_type": "code",
      "source": [
        "#Konversi tipe data integer\n",
        "print(int(bilangan2))\n",
        "print(int(bilangan3))\n",
        "\n",
        "#Konversi tipe data float\n",
        "print(float(bilangan1))\n",
        "print(float(bilangan3))\n",
        "\n",
        "#Konversi tipe data string\n",
        "print(str(bilangan1))\n",
        "print(str(bilangan2))\n",
        "print(str(bilangan3))\n",
        "\n",
        "#Konversi tipe data bool\n",
        "print(bool(bilangan1))\n",
        "print(bool(bilangan2))\n",
        "\n",
        "#Konversi tipe data compleks\n",
        "print(complex(bilangan1))\n",
        "print(complex(bilangan2))\n",
        "print(complex(bilangan3))"
      ],
      "metadata": {
        "colab": {
          "base_uri": "https://localhost:8080/"
        },
        "id": "OFVPBu5w_yZ3",
        "outputId": "fc739d63-ebab-4784-bcc6-b35a8160bbcc"
      },
      "execution_count": null,
      "outputs": [
        {
          "output_type": "stream",
          "name": "stdout",
          "text": [
            "2\n",
            "1\n",
            "4.0\n",
            "1.0\n",
            "4\n",
            "2.5\n",
            "True\n",
            "True\n",
            "True\n",
            "(4+0j)\n",
            "(2.5+0j)\n",
            "(1+0j)\n"
          ]
        }
      ]
    },
    {
      "cell_type": "markdown",
      "source": [
        "##Latihan 3"
      ],
      "metadata": {
        "id": "6E_nwnf5BgY2"
      }
    },
    {
      "cell_type": "markdown",
      "source": [
        "Konversi tipe data yang telah kalian buat menjadi berbagai macam tipe data"
      ],
      "metadata": {
        "id": "SYxLR1QtBjBM"
      }
    },
    {
      "cell_type": "code",
      "source": [
        "#Konversi tipe data integer\n",
        "print(int(variabel1))\n",
        "print(int(variabel2))\n",
        "print(int(variabel4))\n",
        "\n",
        "print('-'*20)\n",
        "\n",
        "#Konversi tipe data float\n",
        "print(float(variabel1))\n",
        "print(float(variabel2))\n",
        "print(float(variabel4))\n",
        "\n",
        "print('-'*20)\n",
        "\n",
        "#Konversi tipe data string\n",
        "print(str(variabel1))\n",
        "print(str(variabel2))\n",
        "print(str(variabel3))\n",
        "print(str(variabel4))\n",
        "print(str(variabel5))\n",
        "\n",
        "print('-'*20)\n",
        "\n",
        "#Konversi tipe data bool\n",
        "print(bool(variabel1))\n",
        "print(bool(variabel2))\n",
        "print(bool(variabel3))\n",
        "print(bool(variabel4))\n",
        "print(bool(variabel5))\n",
        "\n",
        "print('-'*20)\n",
        "\n",
        "#Konversi tipe data compleks\n",
        "print(complex(variabel1))\n",
        "print(complex(variabel2))\n",
        "print(complex(variabel3))\n",
        "print(complex(variabel4))\n"
      ],
      "metadata": {
        "colab": {
          "base_uri": "https://localhost:8080/"
        },
        "id": "MaQvTxUkBqE-",
        "outputId": "ebdaee2b-5678-465a-d5f9-702c33802dba"
      },
      "execution_count": null,
      "outputs": [
        {
          "output_type": "stream",
          "name": "stdout",
          "text": [
            "0\n",
            "0\n",
            "1\n",
            "--------------------\n",
            "0.0\n",
            "0.3\n",
            "1.0\n",
            "--------------------\n",
            "False\n",
            "0.3\n",
            "(5+2j)\n",
            "1\n",
            "Saya sedang belajar python\n",
            "--------------------\n",
            "False\n",
            "True\n",
            "True\n",
            "True\n",
            "True\n",
            "--------------------\n",
            "0j\n",
            "(0.3+0j)\n",
            "(5+2j)\n",
            "(1+0j)\n"
          ]
        }
      ]
    }
  ]
}