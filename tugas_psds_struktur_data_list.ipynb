{
  "nbformat": 4,
  "nbformat_minor": 0,
  "metadata": {
    "colab": {
      "provenance": [],
      "include_colab_link": true
    },
    "kernelspec": {
      "name": "python3",
      "display_name": "Python 3"
    },
    "language_info": {
      "name": "python"
    }
  },
  "cells": [
    {
      "cell_type": "markdown",
      "metadata": {
        "id": "view-in-github",
        "colab_type": "text"
      },
      "source": [
        "<a href=\"https://colab.research.google.com/github/pratiwikistya25/psds-5.0-dasar/blob/main/tugas_psds_struktur_data_list.ipynb\" target=\"_parent\"><img src=\"https://colab.research.google.com/assets/colab-badge.svg\" alt=\"Open In Colab\"/></a>"
      ]
    },
    {
      "cell_type": "markdown",
      "metadata": {
        "id": "hUq8j8ubhU79"
      },
      "source": [
        "#List"
      ]
    },
    {
      "cell_type": "markdown",
      "metadata": {
        "id": "OuoEU0BihaTR"
      },
      "source": [
        "List adalah jenis kumpulan data terurut (ordered sequence),dan merupakan salah satu variabel yang sering digunakan pada Phython. Serupa, namun tak sama dengan array pada bahasa pemrograman lainnya. Bedanya, element List pada Phyton tidak harus memiliki tipe data yang saman. Mendeklarasikan List cukup mudah dengan kurung siku dan elemen yang dipisahkan oleh koma.\n",
        "\n",
        "Setiap data di dalamnya dapat diakses dengan indeks yang dimulai dari 0."
      ]
    },
    {
      "cell_type": "code",
      "metadata": {
        "colab": {
          "base_uri": "https://localhost:8080/"
        },
        "id": "4NJZPgOghJH6",
        "outputId": "8b39054d-fdf4-47d6-804c-c34af03fb0e6"
      },
      "source": [
        "# Contoh List\n",
        "L1 = [1, 4, 2, 13]\n",
        "print(type(L1))"
      ],
      "execution_count": null,
      "outputs": [
        {
          "output_type": "stream",
          "name": "stdout",
          "text": [
            "<class 'list'>\n"
          ]
        }
      ]
    },
    {
      "cell_type": "code",
      "metadata": {
        "colab": {
          "base_uri": "https://localhost:8080/"
        },
        "id": "yFrMFuAIlIGB",
        "outputId": "fc2ae5c0-8b3d-4e79-82a9-b4e8c17bb6c9"
      },
      "source": [
        "L2=[\"a\",\"Python\",3]\n",
        "L2"
      ],
      "execution_count": null,
      "outputs": [
        {
          "output_type": "execute_result",
          "data": {
            "text/plain": [
              "['a', 'Python', 3]"
            ]
          },
          "metadata": {},
          "execution_count": 3
        }
      ]
    },
    {
      "cell_type": "code",
      "metadata": {
        "colab": {
          "base_uri": "https://localhost:8080/"
        },
        "id": "BLefAsPJli5f",
        "outputId": "018c0c63-2c6a-47a0-89ec-2bc241cbd091"
      },
      "source": [
        "print(L1)\n",
        "print(L2)"
      ],
      "execution_count": null,
      "outputs": [
        {
          "output_type": "stream",
          "name": "stdout",
          "text": [
            "[1, 4, 2, 13]\n",
            "['a', 'Python', 3]\n"
          ]
        }
      ]
    },
    {
      "cell_type": "markdown",
      "metadata": {
        "id": "05lHbmqDlp_Z"
      },
      "source": [
        "Latihan 1"
      ]
    },
    {
      "cell_type": "code",
      "metadata": {
        "colab": {
          "base_uri": "https://localhost:8080/"
        },
        "id": "mqRhf6EUlsPy",
        "outputId": "d6c8493f-8187-45b9-e31b-defeccabe2ca"
      },
      "source": [
        "#Buatlah List kalian sendiri\n",
        "l1 =[\"aku\", 4, 2+2j, \"lapar\", True, 4.4]\n",
        "l1"
      ],
      "execution_count": null,
      "outputs": [
        {
          "output_type": "execute_result",
          "data": {
            "text/plain": [
              "['aku', 4, (2+2j), 'lapar', True, 4.4]"
            ]
          },
          "metadata": {},
          "execution_count": 12
        }
      ]
    },
    {
      "cell_type": "markdown",
      "metadata": {
        "id": "JAAz_utHlxys"
      },
      "source": [
        "Indeks di Python (List,Tuple) mulai dari 0"
      ]
    },
    {
      "cell_type": "code",
      "metadata": {
        "colab": {
          "base_uri": "https://localhost:8080/"
        },
        "id": "0svlZTL5lwH0",
        "outputId": "3a9ce608-a761-408b-ee74-a9ebc69a62e8"
      },
      "source": [
        "#Sifat-sifat List\n",
        "\n",
        "#Terurut/Ordered\n",
        "print(\"Memanggil List L1 dengan indeks urutan:\", L1[0:3])\n",
        "\n",
        "#Bisa diganti/Mutable\n",
        "L1[1]=2\n",
        "print(\"List L1 setelah diganti elementnya:\", L1)\n",
        "L1=[1, \"dua\", True, 2+3j]\n",
        "\n",
        "#Dapat Diindeks/Slicing\n",
        "print(\"Slicing List L1:\", L1[3])\n",
        "\n",
        "#Dapat dijadikan Duplikasi\n",
        "L1=[1, \"Dua\", True, 2+3j, 2+3j]\n",
        "print(\"Duplikasi pada List L1:\", L1)\n"
      ],
      "execution_count": null,
      "outputs": [
        {
          "output_type": "stream",
          "name": "stdout",
          "text": [
            "Memanggil List L1 dengan indeks urutan: [1, 4, 2]\n",
            "List L1 setelah diganti elementnya: [1, 2, 2, 13]\n",
            "Slicing List L1: (2+3j)\n",
            "Duplikasi pada List L1: [1, 'Dua', True, (2+3j), (2+3j)]\n"
          ]
        }
      ]
    },
    {
      "cell_type": "markdown",
      "metadata": {
        "id": "3VXs0qt1_Knd"
      },
      "source": [
        "Latihan 2"
      ]
    },
    {
      "cell_type": "code",
      "metadata": {
        "colab": {
          "base_uri": "https://localhost:8080/"
        },
        "id": "yIa0U0yMAAb9",
        "outputId": "afdcab45-fc5f-406e-dd4b-a784bfb5fc4c"
      },
      "source": [
        "#Gantikan elemen yang ada pada List yang kalian buat\n",
        "l1[3]=3\n",
        "print(\"setelah diganti elemennya, l1:\",l1)"
      ],
      "execution_count": null,
      "outputs": [
        {
          "output_type": "stream",
          "name": "stdout",
          "text": [
            "setelah diganti elemennya, l1: ['aku', 4, (2+2j), 3, True, 4.4]\n"
          ]
        }
      ]
    }
  ]
}