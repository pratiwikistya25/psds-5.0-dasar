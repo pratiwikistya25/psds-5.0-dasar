{
  "nbformat": 4,
  "nbformat_minor": 0,
  "metadata": {
    "colab": {
      "provenance": [],
      "include_colab_link": true
    },
    "kernelspec": {
      "name": "python3",
      "display_name": "Python 3"
    },
    "language_info": {
      "name": "python"
    }
  },
  "cells": [
    {
      "cell_type": "markdown",
      "metadata": {
        "id": "view-in-github",
        "colab_type": "text"
      },
      "source": [
        "<a href=\"https://colab.research.google.com/github/pratiwikistya25/psds-5.0-dasar/blob/main/pengenalan_phyton_psds_1.ipynb\" target=\"_parent\"><img src=\"https://colab.research.google.com/assets/colab-badge.svg\" alt=\"Open In Colab\"/></a>"
      ]
    },
    {
      "cell_type": "markdown",
      "source": [
        "##Pengenalan Phyton\n"
      ],
      "metadata": {
        "id": "zOEgs3KAlKU9"
      }
    },
    {
      "cell_type": "markdown",
      "source": [
        "Python adalah bahasa pemograman tingkat tinggi dengan dynamic sematics, bersifat object oriented, dan interpretatif. Bahasa pemrograman ini fokus dikembangkan pada keterbacaan bahasa pemrograman.\n",
        "\n",
        "1. **Bahasa Pemrograman Tingkat Tinggi (Hight Level Programing)** artinya syntaks kode lebih mudah ditafsirkan oleh manusia.\n",
        "2. **Interpretatif** artinya bahasa ini memerlukan penerjemah. Ini memungkinkan kita untuk menggunakan bahasa yang lebih mudah dipahami.\n",
        "3. **Object Oriented** berarti bahwa bahasa pemrograman ini berorientasi kepada objek. Hal ini membuat Phyton lebih mudah untuk dikembangkan.\n",
        "4. **Dynamic Semantic** Phyton secara otomatis akan menyesuaikan tipe dari suatu variable berdasarkan inputnya."
      ],
      "metadata": {
        "id": "o4S48rzulRSi"
      }
    },
    {
      "cell_type": "markdown",
      "source": [
        "##Mengapa Phyton?"
      ],
      "metadata": {
        "id": "tc6E5I3mmsLX"
      }
    },
    {
      "cell_type": "markdown",
      "source": [
        "1. Mudah dipahami\n",
        "2. Grafis & Open Source\n",
        "3. Dinamis\n",
        "4. Memiliki Library Terlengkap untuk Data Sains"
      ],
      "metadata": {
        "id": "F94WyVuhmxpY"
      }
    },
    {
      "cell_type": "markdown",
      "source": [
        "##Stuktur Program Pada Phyton"
      ],
      "metadata": {
        "id": "IDF588V1m7sO"
      }
    },
    {
      "cell_type": "markdown",
      "source": [
        "Phyton pada umumnya terdiri dari :\n",
        "1. **Statement**"
      ],
      "metadata": {
        "id": "kyMbSDGznIkK"
      }
    },
    {
      "cell_type": "code",
      "execution_count": null,
      "metadata": {
        "colab": {
          "base_uri": "https://localhost:8080/"
        },
        "id": "wCDVTpmHjOdk",
        "outputId": "ccec815a-180c-4819-99bf-d109e4bb4bf3"
      },
      "outputs": [
        {
          "output_type": "stream",
          "name": "stdout",
          "text": [
            "belajar Phyton menyenangkan\n",
            "halo dunia\n"
          ]
        }
      ],
      "source": [
        "print(\"belajar Phyton menyenangkan\")\n",
        "print(\"halo dunia\")"
      ]
    },
    {
      "cell_type": "markdown",
      "source": [
        "2. **Variables**"
      ],
      "metadata": {
        "id": "skYePRXInWC6"
      }
    },
    {
      "cell_type": "code",
      "source": [
        "bilangan1 = 5\n",
        "bilangan2 = 10\n",
        "kalimat = \"Pejuang Data 3\""
      ],
      "metadata": {
        "id": "pvKoAQaUnZKk"
      },
      "execution_count": null,
      "outputs": []
    },
    {
      "cell_type": "markdown",
      "source": [
        "3. **Literals** : Simbol-simbol yang dapat kita gunakan untuk mengisi suatu variable."
      ],
      "metadata": {
        "id": "jq54y7EwngzR"
      }
    },
    {
      "cell_type": "markdown",
      "source": [
        "4. **Operators** : Simbol-simbol yang dapat digunakan untuk mengubah nilai dari satu variable dengan melibatkan satu atau lebih variable dan literal"
      ],
      "metadata": {
        "id": "M3u10WWwnodI"
      }
    },
    {
      "cell_type": "code",
      "source": [
        "bilangan1+bilangan2\n"
      ],
      "metadata": {
        "colab": {
          "base_uri": "https://localhost:8080/"
        },
        "id": "qgp2fAQxnwWu",
        "outputId": "47268f53-35ea-4c60-a10b-4d91f11c29bc"
      },
      "execution_count": null,
      "outputs": [
        {
          "output_type": "execute_result",
          "data": {
            "text/plain": [
              "15"
            ]
          },
          "metadata": {},
          "execution_count": 3
        }
      ]
    },
    {
      "cell_type": "markdown",
      "source": [
        "5. **Reserved Words** : Kumpulan kata-kata yang memiliki makna khusus dalam bahasa pemrograman Phyton. Kata\n",
        "```false``` , ```return``` , dan ```for ```\n",
        "merupakan contoh dari reserved words\n",
        "\n"
      ],
      "metadata": {
        "id": "1DUDdt2LBStj"
      }
    },
    {
      "cell_type": "markdown",
      "source": [
        "5. **Reserved Words** : Kumpulan kata-kata yang memiliki makna khusus dalam bahasa pemrograman Phyton. Kata false , return , dan for merupakan contoh dari reserved words."
      ],
      "metadata": {
        "id": "bn14JwgFn17H"
      }
    },
    {
      "cell_type": "markdown",
      "source": [
        "6. **Whitespace** : Pada bahasa Phyton, spasi dan tab memiliki makna khusus untuk menandai serangkaian blok dalam kode Phyton"
      ],
      "metadata": {
        "id": "fwB6LTBwoCIA"
      }
    },
    {
      "cell_type": "markdown",
      "source": [
        "7. **Comments** : Comments merupakan sekumpulan teks yang dituliskan di dalam sebuah program yang tidak akan mempengaruhi hasil dari sebuah pemrograman."
      ],
      "metadata": {
        "id": "8jb-SPMpoG35"
      }
    },
    {
      "cell_type": "markdown",
      "source": [
        "**single line comment** (comments dalam satu baris) seperti contoh berikut :"
      ],
      "metadata": {
        "id": "RzZXKW8iwyRT"
      }
    },
    {
      "cell_type": "markdown",
      "source": [
        "Terdapat dua jenis comments di dalam Phyton, yaitu :"
      ],
      "metadata": {
        "id": "6oczdZ4Fxfi1"
      }
    },
    {
      "cell_type": "markdown",
      "source": [
        "a. **single line comment** (comments dalam satu baris) seperti contoh berikut :"
      ],
      "metadata": {
        "id": "EXw4Dyc6wv95"
      }
    },
    {
      "cell_type": "code",
      "source": [
        "# Ini adalah Comment\n",
        "print(\"belajar Phyton\")\n"
      ],
      "metadata": {
        "colab": {
          "base_uri": "https://localhost:8080/"
        },
        "id": "zOYpZuIXorat",
        "outputId": "5ba62e0c-a913-490e-830a-5d9aaa6ba5e3"
      },
      "execution_count": null,
      "outputs": [
        {
          "output_type": "stream",
          "name": "stdout",
          "text": [
            "belajar Phyton\n"
          ]
        }
      ]
    },
    {
      "cell_type": "markdown",
      "source": [
        "b. **multi line comment** (comments dalam beberapa baris) yang dapat dilakukan\n",
        "seperti pada contoh berikut :"
      ],
      "metadata": {
        "id": "ihWmEm98xrgg"
      }
    },
    {
      "cell_type": "markdown",
      "source": [
        "\n",
        "\n",
        "```\n",
        "Ini adalah komentar panjang\n",
        "Bisa digunakan untuk memberikan penjelasan\n",
        "panjang pada Sell Kode Phyton,\n",
        "Misal dokumentasi program, spesifikasi\n",
        "input output atau lainnya\n",
        "```\n",
        "\n"
      ],
      "metadata": {
        "id": "-9x9_V9Lx69i"
      }
    },
    {
      "cell_type": "code",
      "source": [
        "print('Belajar Phyton menyenangkan')"
      ],
      "metadata": {
        "colab": {
          "base_uri": "https://localhost:8080/"
        },
        "id": "-3m1y1c2xwd_",
        "outputId": "453ec66a-6eea-41df-fad4-0963fd0d7ea7"
      },
      "execution_count": null,
      "outputs": [
        {
          "output_type": "stream",
          "name": "stdout",
          "text": [
            "Belajar Phyton menyenangkan\n"
          ]
        }
      ]
    }
  ]
}